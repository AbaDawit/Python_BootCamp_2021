{
 "cells": [
  {
   "cell_type": "markdown",
   "metadata": {},
   "source": [
    "## Exercises\n",
    "### Write the pseudocode for these problems. \n",
    "\n",
    "#### Define the problem by constructing an IPO diagram showing input, output, and processing steps\n",
    "Ask yourself\n",
    "- What control structures (sequence, selection and repetition) are required?\n",
    "- What variables are required?\n",
    "\n",
    "Show a check of your solution with **test data** for at least **two valid test cases**\n",
    "If you use the numbers provided in the example then the correct pseudocode will calculate the same result.\n",
    "    "
   ]
  },
  {
   "cell_type": "markdown",
   "metadata": {},
   "source": [
    "#### 1. Find the average score\n",
    "A program is needed to prompt the user operator for exam scores, calculate the average score and display the result to the screen. The average score is calculated as the sum of the scores divided by the number of scores."
   ]
  },
  {
   "cell_type": "markdown",
   "metadata": {},
   "source": [
    "Type Markdown and LaTeX:  𝛼2"
   ]
  },
  {
   "cell_type": "markdown",
   "metadata": {},
   "source": [
    "#### 2. How much water runs off a roof in a rain storm?\n",
    "To calculate the runoff from any given rainfall: Take the dimensions of the footprint of the roof and convert them to inches. (So, a 50' x 20' roof is 600\" x 240\"). Multiply the roof dimensions by the number of inches of rainfall. As an example, 600\" x 240\" x 1\" = 144,000 cubic inches of water for an inch of rainfall. Divide that result by 231 to get the number of gallons (because 1 gallon = 231 cubic inches). (144,000/231 = 623.38)."
   ]
  },
  {
   "cell_type": "markdown",
   "metadata": {},
   "source": [
    "Type Markdown and LaTeX:  𝛼2"
   ]
  },
  {
   "cell_type": "markdown",
   "metadata": {},
   "source": [
    "#### 3. Process customer record\n",
    "A program is required to read a customer’s name, a purchase amount and a tax code. The tax code has been validated and will be one of the following: 0 tax exempt (0%) 1 state sales tax only (3%) 2 federal and state sales tax (5%) 3 special sales tax (7%) The program must then compute the sales tax and the total amount due,and print the customer’s name, purchase amount, sales tax and total amount due."
   ]
  },
  {
   "cell_type": "markdown",
   "metadata": {},
   "source": [
    "Type Markdown and LaTeX:  𝛼2"
   ]
  },
  {
   "cell_type": "markdown",
   "metadata": {},
   "source": [
    "#### 4. Calculate employee's pay \n",
    "A program is required by a company to read an employee’s number, pay rate and the number of hours worked in a week. The program is then to validate the pay rate field and the hours worked field and, if valid, compute the employee’s weekly pay and then print it and the input data.\n",
    "\n",
    "Validation: According to the company’s rules, the maximum hours an employee can work per week is 60 hours, and the maximum hourly rate is $25.00 per hour. If the hours worked field or the hourly rate field is out of range, the input data and an appropriate message are to be printed and the employee’s weekly pay is not to be calculated.\n",
    "\n",
    "Weekly pay calculation: Weekly pay is calculated as hours worked times pay rate. If more than 35 hours are worked, payment for the overtime hours worked is calculated at time-and-a-half."
   ]
  },
  {
   "cell_type": "markdown",
   "metadata": {},
   "source": [
    "input : Employe Number\n",
    "input: Pay Rate\n",
    "input: Number of Hours worked in a week\n",
    "Output: Employee's Weekly Pay\n",
    "Algorithm (Formula): Employee's Weekly Pay = Pay Rate * Number of Hours worked in a week. \n",
    "\n",
    "BEGIN\n",
    "    Prompt user for an employee Id\n",
    "    Get an an employee Id from user \n",
    "    Prompt the user to enter the pay rate for that employee\n",
    "    If Employee Pay Rate <= $25\n",
    "    Prompt user to enter number of hours \n",
    "    Else Print message \"You entered out of range pay rate\"\n",
    "    If Number of hours worked <= 60\n",
    "    Calculate Employee's Weekly Pay = Pay Rate * Number of Hours worked in a week.\n",
    "    Print Employee's Weekly Pay \n",
    "    Else Print message \"You have worked more than 60 hours. Talk to your supervisor.\"\n",
    " End\n",
    " \n",
    " Test Code 1\n",
    " Employee id 25\n",
    " Pay Rate 25\n",
    " Number of Hours worked in a week 55\n",
    " \n",
    " Prompt user to enter employee id \n",
    "  user enter 25\n",
    "Get the pay rate for the employee\n",
    "    User entered 25\n",
    "    is 25 <=25? Yes\n",
    "Get Employee's Number of Hours worked in a week \n",
    "    user entered 55\n",
    "    is 55 <=60? Yes\n",
    "Calculate the  Employee's Weekly Pay \n",
    "    Employee's Weekly Pay = 25* 55 = 1375\n",
    "Print \"Employee's Weekly Pay is $1375\"\n",
    "\n",
    "Test Code 2\n",
    " Employee id 29\n",
    " Pay Rate 26\n",
    " Number of Hours worked in a week 55\n",
    " Prompt user to enter employee id \n",
    "  user enter 29\n",
    "Get the pay rate for the employee\n",
    "    User entered 26\n",
    "    is 26 <=25? No\n",
    "Print message \"You entered out of range pay rate\"\n",
    "\n",
    "Test Code 3\n",
    " Employee id 47\n",
    " Pay Rate 23\n",
    " Number of Hours worked in a week 61\n",
    " \n",
    " Prompt user to enter employee id \n",
    "  user enter 47\n",
    "Get the pay rate for the employee\n",
    "    User entered 23\n",
    "    is 23 <=25? Yes\n",
    "Get Employee's Number of Hours worked in a week \n",
    "    user entered 61\n",
    "    is 61 <=60? No\n",
    "Print message \"You have worked more than 60 hours. Talk to your supervisor.\"\n"
   ]
  }
 ],
 "metadata": {
  "kernelspec": {
   "display_name": "Python 3",
   "language": "python",
   "name": "python3"
  },
  "language_info": {
   "codemirror_mode": {
    "name": "ipython",
    "version": 3
   },
   "file_extension": ".py",
   "mimetype": "text/x-python",
   "name": "python",
   "nbconvert_exporter": "python",
   "pygments_lexer": "ipython3",
   "version": "3.8.8"
  }
 },
 "nbformat": 4,
 "nbformat_minor": 2
}
